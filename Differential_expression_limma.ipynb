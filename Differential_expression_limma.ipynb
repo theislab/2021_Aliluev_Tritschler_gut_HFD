{
 "cells": [
  {
   "cell_type": "markdown",
   "metadata": {},
   "source": [
    "# Differential expression analyses using limma"
   ]
  },
  {
   "cell_type": "code",
   "execution_count": 1,
   "metadata": {},
   "outputs": [
    {
     "name": "stderr",
     "output_type": "stream",
     "text": [
      "/Users/sophie/miniconda3/lib/python3.5/site-packages/h5py/__init__.py:36: FutureWarning: Conversion of the second argument of issubdtype from `float` to `np.floating` is deprecated. In future, it will be treated as `np.float64 == np.dtype(float).type`.\n",
      "  from ._conv import register_converters as _register_converters\n"
     ]
    },
    {
     "name": "stdout",
     "output_type": "stream",
     "text": [
      "2.9.1\n"
     ]
    }
   ],
   "source": [
    "import numpy as np\n",
    "import pandas as pd\n",
    "import scanpy.api as sc\n",
    "import scipy as sci\n",
    "import rpy2\n",
    "print(rpy2.__version__)\n",
    "import gseapy as gp\n",
    "from xlrd import XLRDError\n",
    "import xlsxwriter\n",
    "from gprofiler import gprofiler"
   ]
  },
  {
   "cell_type": "code",
   "execution_count": 2,
   "metadata": {
    "run_control": {
     "marked": false
    }
   },
   "outputs": [
    {
     "name": "stdout",
     "output_type": "stream",
     "text": [
      "scanpy==1.0.4+92.g9a754bb.dirty anndata==0.5.10 numpy==1.14.2 scipy==1.0.1 pandas==0.22.0 scikit-learn==0.19.1 statsmodels==0.8.0 python-igraph==0.7.1 louvain==0.6.1 \n"
     ]
    }
   ],
   "source": [
    "sc.settings.verbosity = 3\n",
    "sc.logging.print_versions()"
   ]
  },
  {
   "cell_type": "code",
   "execution_count": 3,
   "metadata": {},
   "outputs": [
    {
     "data": {
      "text/plain": [
       "'1.0.2'"
      ]
     },
     "execution_count": 3,
     "metadata": {},
     "output_type": "execute_result"
    }
   ],
   "source": [
    "xlsxwriter.__version__"
   ]
  },
  {
   "cell_type": "code",
   "execution_count": 4,
   "metadata": {},
   "outputs": [],
   "source": [
    "adata_all = sc.read('./data/adata_processed.h5')"
   ]
  },
  {
   "cell_type": "code",
   "execution_count": 5,
   "metadata": {},
   "outputs": [],
   "source": [
    "adata_all_hvg = adata_all[:, adata_all.var.highly_variable].copy()"
   ]
  },
  {
   "cell_type": "markdown",
   "metadata": {},
   "source": [
    "## Differential expression testing approach"
   ]
  },
  {
   "cell_type": "markdown",
   "metadata": {
    "hidden": true
   },
   "source": [
    "We apply the following additional filters to identify differentially expressed genes\n",
    "\n",
    "1) We consider only genes that are expressed in >10% of cells in either group  \n",
    "2) DEG with FDR <0.01 including batch and CDR in the design matrix  \n",
    "3) Filtering DEG based on absolute log2 fold-change >0.5  "
   ]
  },
  {
   "cell_type": "markdown",
   "metadata": {},
   "source": [
    "## helper functions"
   ]
  },
  {
   "cell_type": "code",
   "execution_count": 6,
   "metadata": {},
   "outputs": [],
   "source": [
    "def abs_log2fc(adata,grouptype,group2,group1):\n",
    "    # calculate the absolute log2-foldchange as log2(b/a) = (ln(b)-ln(a))/ln(2)\n",
    "    # data is ln(counts+1), neglect the +1\n",
    "    obs_df=pd.DataFrame(adata.X.toarray(),columns=adata.var_names)\n",
    "    obs_df[grouptype]=adata.obs[grouptype].values    \n",
    "    x=obs_df.groupby([grouptype])\n",
    "    tot=x[adata.var_names].apply(np.mean)\n",
    "    lfc= (tot.loc[group2] - tot.loc[group1])/np.log(2)\n",
    "    return lfc"
   ]
  },
  {
   "cell_type": "code",
   "execution_count": 7,
   "metadata": {},
   "outputs": [],
   "source": [
    "def run_limma_counts(adata, condobs, batchobs, countsobs, coef,ref):\n",
    "\n",
    "    import rpy2.robjects as robjects\n",
    "    import rpy2.robjects.numpy2ri\n",
    "    from rpy2.robjects import pandas2ri\n",
    "    from rpy2.robjects.packages import importr\n",
    "    pandas2ri.activate()\n",
    "    \n",
    "    # prepare data for R\n",
    "    data=pd.DataFrame(adata.X.toarray(), columns=adata.var_names)\n",
    "    cond=adata.obs[condobs]\n",
    "    batch=adata.obs[batchobs]\n",
    "    counts=adata.obs[countsobs]\n",
    "\n",
    "    # load R packages and data\n",
    "    R=robjects.r\n",
    "    R('library(edgeR)')\n",
    "    R('library(limma)')\n",
    "    R.assign('data',data.T)\n",
    "    #print(dgelist)\n",
    "    R.assign('cond', cond)\n",
    "    R.assign('batch', batch)\n",
    "    R.assign('counts', counts)\n",
    "    R('counts<-scale(counts)')\n",
    "\n",
    "    # delete for memory\n",
    "    del data\n",
    "    del cond    \n",
    "    del batch\n",
    "    \n",
    "    # format data and create dge object \n",
    "    R('cond <- as.factor(cond)')\n",
    "    R('cond <- relevel(cond,'''+ref+''')''')\n",
    "    R('dge <- edgeR::DGEList(data,group=cond,sample=data.frame(batch=batch,counts=counts))')\n",
    "    R('rm(data)')\n",
    "    R('y <- new(\"EList\")')\n",
    "    R('y$E <- dge')\n",
    "    R('rm(dge)')\n",
    "    \n",
    "    # design matrix for testing\n",
    "    R('design <- model.matrix(~cond+batch+counts)')\n",
    "    \n",
    "    # run limma\n",
    "    print('run limma lmFit')\n",
    "    R('fit <- limma::lmFit(y, design = design)')\n",
    "    R('rm(y)')\n",
    "    print('run limma eBayes')\n",
    "    R('fit <-  limma::eBayes(fit, trend = TRUE, robust = TRUE,)')\n",
    "    \n",
    "    # get results\n",
    "    strg='\"BH\"'\n",
    "    tt = R('''limma::topTable(fit,coef='''+coef+''',number = Inf,adjust.method='''+strg+''')''')\n",
    "    return tt"
   ]
  },
  {
   "cell_type": "code",
   "execution_count": 8,
   "metadata": {},
   "outputs": [],
   "source": [
    "def filter_amb(adata):\n",
    "    # ambient genes for filtering, see processing notebook\n",
    "    ambient_genes=['Itln1','Spink4','Zg16','Lyz1','Defa21','Gm14851','Defa22','Gm15308','Gm15284',\n",
    "                   'Defa20','Gm15308','Gm14850','Gm7861','Defa17','AY761184', 'Ang4','Agr2','Clps','Tff3','Defa24','Fcgbp']\n",
    "    ix_amb_genes = np.in1d(adata.var_names,ambient_genes,invert=True)\n",
    "    return (ix_amb_genes)"
   ]
  },
  {
   "cell_type": "code",
   "execution_count": 9,
   "metadata": {},
   "outputs": [],
   "source": [
    "def filter_genes(adata, obs_name, group1, group2):\n",
    "    #### filter genes at least expressed in 10% of cells in either group\n",
    "    ix = np.isin(adata.obs[obs_name], group1)\n",
    "    adata_sub = adata[ix].copy()\n",
    "    filter_1 = sc.pp.filter_genes(adata_sub.X,min_cells=adata_sub.n_obs*0.01, copy=True)\n",
    "    del adata_sub\n",
    "    \n",
    "    ix=np.isin(adata_filt.obs[obs_name], group2)\n",
    "    adata_sub=adata_filt[ix]\n",
    "    filter_2=sc.pp.filter_genes(adata_sub.X,min_cells=adata_sub.n_obs*0.01,copy=True)\n",
    "    del adata_sub\n",
    "    \n",
    "    ix_genes=[a or b for a, b in zip(filter_1[0],filter_2[0])]\n",
    "    \n",
    "    adata = adata[:,np.array(ix_genes)].copy()\n",
    "    \n",
    "    return adata"
   ]
  },
  {
   "cell_type": "code",
   "execution_count": 10,
   "metadata": {},
   "outputs": [],
   "source": [
    "def scale_lfc(x):\n",
    "    # split into up-/downregulated genes\n",
    "    xup=x[x['logFC']>0]\n",
    "    xdown=x[x['logFC']<0]\n",
    "    \n",
    "    # sort by foldchange\n",
    "    xup.sort_values(by=['logFC'], ascending=True, inplace=True)\n",
    "    xdown.sort_values(by=['logFC'], ascending=True, inplace=True)    \n",
    "\n",
    "    # scale upregulated genes\n",
    "    xup['log_weight']=xup['logFC']\n",
    "    xup['log_weight'][xup['logFC']>=0.5]=0.6\n",
    "    xup['log_weight']= (xup['log_weight']-min(xup['log_weight']))/(max(xup['log_weight'])-min(xup['log_weight']))\n",
    "    \n",
    "    # scale downregulated genes\n",
    "    xdown['log_weight']=xdown['logFC']\n",
    "    xdown['log_weight'][xdown['logFC']<=-0.5]=-0.6\n",
    "    xdown['log_weight']=abs(xdown['log_weight'])\n",
    "    xdown['log_weight']= (xdown['log_weight']-min(xdown['log_weight']))/(max(xdown['log_weight'])-min(xdown['log_weight']))\n",
    "\n",
    "    return xup, xdown"
   ]
  },
  {
   "cell_type": "code",
   "execution_count": 11,
   "metadata": {},
   "outputs": [],
   "source": [
    "def write_to_excel(df, writer, group, prefix):\n",
    "    if len(group)>17:\n",
    "            group_short=group[0:17]\n",
    "            group_short=group_short.replace('/', '_')\n",
    "            \n",
    "            df.to_excel(writer_genes, sheet_name=group_short+prefix)\n",
    "    else:\n",
    "            group=group.replace('/', '_')\n",
    "\n",
    "            df.to_excel(writer_genes, sheet_name=group+prefix)"
   ]
  },
  {
   "cell_type": "code",
   "execution_count": 13,
   "metadata": {},
   "outputs": [],
   "source": [
    "def run_enrichment(x, writer, group, prefix, database='KEGG_2016'):\n",
    "    \n",
    "    # prepare gene list\n",
    "    x_rank=x['log_weight']\n",
    "    x_rank=x_rank.reset_index()\n",
    "\n",
    "    print('run enrichment with enrichR using'+ database)\n",
    "\n",
    "    #enrichment\n",
    "    try:        \n",
    "        enr = gp.enrichr(gene_list=x_rank,\n",
    "                 description='test_name',\n",
    "                 gene_sets=database,\n",
    "                 cutoff=1\n",
    "                    )\n",
    "        write_to_excel(enr.res2d, writer, group, prefix)\n",
    "               \n",
    "        del enr\n",
    "    \n",
    "    except (ValueError,Exception):\n",
    "        print ('no significant go term..')\n",
    "        pass"
   ]
  },
  {
   "cell_type": "markdown",
   "metadata": {},
   "source": [
    "### proximal vs. distal cells in control samples"
   ]
  },
  {
   "cell_type": "code",
   "execution_count": 14,
   "metadata": {},
   "outputs": [],
   "source": [
    "writer_genes = pd.ExcelWriter('./differential_expression/CD_regionality_genes_final.xlsx', engine='xlsxwriter')"
   ]
  },
  {
   "cell_type": "code",
   "execution_count": 15,
   "metadata": {},
   "outputs": [],
   "source": [
    "# subset to control cells\n",
    "adata_all_cd = adata_all[adata_all.obs['diet'].isin(['CD'])].copy()"
   ]
  },
  {
   "cell_type": "code",
   "execution_count": 17,
   "metadata": {},
   "outputs": [
    {
     "name": "stdout",
     "output_type": "stream",
     "text": [
      "differential testing in Enterocyte progenitor\n",
      "subset  3805cells\n",
      "filter genes\n",
      "run limma\n"
     ]
    },
    {
     "name": "stderr",
     "output_type": "stream",
     "text": [
      "/Users/sophie/miniconda3/lib/python3.5/site-packages/rpy2/rinterface/__init__.py:145: RRuntimeWarning: Lade nötiges Paket: limma\n",
      "\n",
      "  warnings.warn(x, RRuntimeWarning)\n"
     ]
    },
    {
     "name": "stdout",
     "output_type": "stream",
     "text": [
      "run limma lmFit\n",
      "run limma eBayes\n",
      "calculate absolute lfc\n"
     ]
    },
    {
     "name": "stderr",
     "output_type": "stream",
     "text": [
      "/Users/sophie/miniconda3/lib/python3.5/site-packages/ipykernel_launcher.py:7: SettingWithCopyWarning: \n",
      "A value is trying to be set on a copy of a slice from a DataFrame\n",
      "\n",
      "See the caveats in the documentation: http://pandas.pydata.org/pandas-docs/stable/indexing.html#indexing-view-versus-copy\n",
      "  import sys\n",
      "/Users/sophie/miniconda3/lib/python3.5/site-packages/ipykernel_launcher.py:8: SettingWithCopyWarning: \n",
      "A value is trying to be set on a copy of a slice from a DataFrame\n",
      "\n",
      "See the caveats in the documentation: http://pandas.pydata.org/pandas-docs/stable/indexing.html#indexing-view-versus-copy\n",
      "  \n",
      "/Users/sophie/miniconda3/lib/python3.5/site-packages/ipykernel_launcher.py:11: SettingWithCopyWarning: \n",
      "A value is trying to be set on a copy of a slice from a DataFrame.\n",
      "Try using .loc[row_indexer,col_indexer] = value instead\n",
      "\n",
      "See the caveats in the documentation: http://pandas.pydata.org/pandas-docs/stable/indexing.html#indexing-view-versus-copy\n",
      "  # This is added back by InteractiveShellApp.init_path()\n",
      "/Users/sophie/miniconda3/lib/python3.5/site-packages/pandas/core/generic.py:5984: SettingWithCopyWarning: \n",
      "A value is trying to be set on a copy of a slice from a DataFrame\n",
      "\n",
      "See the caveats in the documentation: http://pandas.pydata.org/pandas-docs/stable/indexing.html#indexing-view-versus-copy\n",
      "  self._update_inplace(new_data)\n",
      "/Users/sophie/miniconda3/lib/python3.5/site-packages/ipykernel_launcher.py:34: SettingWithCopyWarning: \n",
      "A value is trying to be set on a copy of a slice from a DataFrame\n",
      "\n",
      "See the caveats in the documentation: http://pandas.pydata.org/pandas-docs/stable/indexing.html#indexing-view-versus-copy\n",
      "/Users/sophie/miniconda3/lib/python3.5/site-packages/ipykernel_launcher.py:13: SettingWithCopyWarning: \n",
      "A value is trying to be set on a copy of a slice from a DataFrame.\n",
      "Try using .loc[row_indexer,col_indexer] = value instead\n",
      "\n",
      "See the caveats in the documentation: http://pandas.pydata.org/pandas-docs/stable/indexing.html#indexing-view-versus-copy\n",
      "  del sys.path[0]\n",
      "/Users/sophie/miniconda3/lib/python3.5/site-packages/ipykernel_launcher.py:16: SettingWithCopyWarning: \n",
      "A value is trying to be set on a copy of a slice from a DataFrame.\n",
      "Try using .loc[row_indexer,col_indexer] = value instead\n",
      "\n",
      "See the caveats in the documentation: http://pandas.pydata.org/pandas-docs/stable/indexing.html#indexing-view-versus-copy\n",
      "  app.launch_new_instance()\n",
      "/Users/sophie/miniconda3/lib/python3.5/site-packages/ipykernel_launcher.py:18: SettingWithCopyWarning: \n",
      "A value is trying to be set on a copy of a slice from a DataFrame.\n",
      "Try using .loc[row_indexer,col_indexer] = value instead\n",
      "\n",
      "See the caveats in the documentation: http://pandas.pydata.org/pandas-docs/stable/indexing.html#indexing-view-versus-copy\n",
      "/Users/sophie/miniconda3/lib/python3.5/site-packages/ipykernel_launcher.py:19: SettingWithCopyWarning: \n",
      "A value is trying to be set on a copy of a slice from a DataFrame.\n",
      "Try using .loc[row_indexer,col_indexer] = value instead\n",
      "\n",
      "See the caveats in the documentation: http://pandas.pydata.org/pandas-docs/stable/indexing.html#indexing-view-versus-copy\n"
     ]
    },
    {
     "name": "stdout",
     "output_type": "stream",
     "text": [
      "differential testing in Enterocyte\n",
      "subset  1169cells\n",
      "filter genes\n",
      "run limma\n",
      "run limma lmFit\n",
      "run limma eBayes\n",
      "calculate absolute lfc\n"
     ]
    }
   ],
   "source": [
    "for i in ['Enterocyte progenitor', 'Enterocyte']:\n",
    "    print('differential testing in '+ str(i))\n",
    "    ix_cells = np.isin(adata_all_cd.obs['groups_named_prog4'], [i])  # select cells/cluster for testing\n",
    "    adata_filt = adata_all_cd[ix_cells,:].copy()\n",
    "    print('subset  '+ str(np.sum(ix_cells)) + 'cells')\n",
    "    \n",
    "    # filter ambient genes\n",
    "    ix_amb = filter_amb(adata_all) \n",
    "    adata_filt = adata_filt[:,ix_amb].copy()\n",
    "        \n",
    "    # filter genes at least expressed in 10% of cells in either group\n",
    "    print('filter genes')\n",
    "    adata_filt = filter_genes(adata_filt, 'groups_named_regional_only', 'distal', 'proximal')\n",
    "    \n",
    "    # run limma\n",
    "    print('run limma')\n",
    "    \n",
    "    try:\n",
    "        x = run_limma_counts(adata_filt, 'groups_named_regional_only', 'batch', 'n_genes', '\"condproximal\"', '\"distal\"')\n",
    "    \n",
    "    except rpy2.rinterface.RRuntimeError:\n",
    "        print ('no significant genes..')\n",
    "        continue\n",
    "    \n",
    "    print('calculate absolute lfc')\n",
    "    \n",
    "    # compute absolute log2 fold change\n",
    "    lfc = abs_log2fc(adata_filt, 'groups_named_regional_only', 'proximal', 'distal')\n",
    "    x = x.loc[lfc.index]\n",
    "    x['abs.log2FC'] = lfc.values\n",
    "    del lfc\n",
    "    \n",
    "    # scale lfc to weigh genes for pathway enrichment\n",
    "    xup, xdown = scale_lfc(x)\n",
    "    \n",
    "    # filtering DEG    \n",
    "    xup = xup[xup['adj.P.Val']<0.01]\n",
    "    xdown = xdown[xdown['adj.P.Val']<0.01]\n",
    "\n",
    "    xup = xup[xup['logFC']>0.1]\n",
    "    xdown = xdown[xdown['logFC']<-0.1]\n",
    "\n",
    "    # upregulated genes\n",
    "    # write genes to excel\n",
    "    write_to_excel(pd.DataFrame(xup), writer_genes, i, '_proximal_up')    \n",
    "    \n",
    "    # downregulated genes\n",
    "    # write genes to excel\n",
    "    write_to_excel(pd.DataFrame(xdown), writer_genes, i, '_proximal_down')\n",
    "\n",
    "writer_genes.save()"
   ]
  },
  {
   "cell_type": "markdown",
   "metadata": {},
   "source": [
    "### CD vs. HFD in major cell types"
   ]
  },
  {
   "cell_type": "code",
   "execution_count": null,
   "metadata": {},
   "outputs": [],
   "source": [
    "writer_genes = pd.ExcelWriter('./differential_expression/Supplementary Table 1.xlsx', engine='xlsxwriter')"
   ]
  },
  {
   "cell_type": "code",
   "execution_count": null,
   "metadata": {},
   "outputs": [],
   "source": [
    "for i in adata_all.obs.groups_named_prog4.cat.categories:\n",
    "   \n",
    "    print('differential testing in '+ str(i))\n",
    "    ix_cells = np.isin(adata_all.obs['groups_named_prog4'], [i])\n",
    "    adata_filt = adata_all[ix_cells,:].copy()\n",
    "    print('subset  '+ str(np.sum(ix_cells)) + 'cells')\n",
    "            \n",
    "    # filter genes at least expressed in 10% of cells in either group\n",
    "    print('filter genes')\n",
    "    adata_filt = filter_genes(adata_filt, 'diet', 'CD', 'HFD')\n",
    "    \n",
    "    # run limma\n",
    "    print('run limma')\n",
    "    \n",
    "    try:\n",
    "        x = run_limma_counts(adata_filt, 'diet', 'batch', 'n_genes', '\"condHFD\"', '\"CD\"')\n",
    "    \n",
    "    except rpy2.rinterface.RRuntimeError:\n",
    "        print ('no significant genes..')\n",
    "        continue\n",
    "    \n",
    "    print('calculate absolute lfc')\n",
    "    \n",
    "    # compute absolute log2 fold change\n",
    "    lfc = abs_log2fc(adata_filt, 'diet', 'HFD', 'CD')\n",
    "    x = x.loc[lfc.index]\n",
    "    x['abs.log2FC'] = lfc.values\n",
    "    del lfc\n",
    "    \n",
    "    # scale lfc to weigh genes for pathway enrichment\n",
    "    xup, xdown = scale_lfc(x)\n",
    "    \n",
    "    # filtering DEG    \n",
    "    xup=xup[xup['adj.P.Val']<0.01]\n",
    "    xdown=xdown[xdown['adj.P.Val']<0.01]\n",
    "\n",
    "    xup=xup[xup['logFC']>0.1]\n",
    "    xdown=xdown[xdown['logFC']<-0.1]\n",
    "    \n",
    "#     # write all genes to excel genes\n",
    "#     write_to_excel(pd.DataFrame(x), writer_all, i, '')\n",
    "\n",
    "    # upregulated genes\n",
    "    # write genes to excel\n",
    "    write_to_excel(pd.DataFrame(xup), writer_genes, i, '_up')\n",
    "        \n",
    "#     # pathway enrichment\n",
    "#     run_enrichment(xup, writer, i, '_up', database='KEGG_2016')\n",
    "    \n",
    "    \n",
    "    # downregulated genes\n",
    "    # write genes to excel\n",
    "    write_to_excel(pd.DataFrame(xdown), writer_genes, i, '_down')\n",
    "        \n",
    "#     # pathway enrichment\n",
    "#     run_enrichment(xdown, writer, i, '_down', database='KEGG_2016')\n",
    "    \n",
    "writer_genes.save()"
   ]
  },
  {
   "cell_type": "markdown",
   "metadata": {},
   "source": [
    "### CD vs. HFD in cycling cells of major cell types"
   ]
  },
  {
   "cell_type": "code",
   "execution_count": null,
   "metadata": {},
   "outputs": [],
   "source": [
    "writer_genes = pd.ExcelWriter('./differential_expression/Supplementary Table 5.xlsx', engine='xlsxwriter')"
   ]
  },
  {
   "cell_type": "code",
   "execution_count": null,
   "metadata": {},
   "outputs": [],
   "source": [
    "for i in adata_all.obs['groups_named_prog_eec'].cat.categories:\n",
    "   \n",
    "    print('differential testing in '+ str(i))\n",
    "    ix_cells = np.isin(adata_all.obs['groups_named_prog_eec'], [i])\n",
    "    adata_filt = adata_all[ix_cells,:].copy()\n",
    "    print('subset  '+ str(np.sum(ix_cells)) + 'cells')\n",
    "    \n",
    "    # filter ambient genes\n",
    "    ix_amb = filter_amb(adata_all) \n",
    "    adata_filt = adata_filt[:,ix_amb].copy()\n",
    "\n",
    "    # subset to cycling cells\n",
    "    ix_cycle = np.isin(adata_filt.obs['proliferation'],'Cycling')\n",
    "    adata_filt = adata_filt[ix_cycle].copy()\n",
    "            \n",
    "    # filter genes at least expressed in 10% of cells in either group\n",
    "    print('filter genes')\n",
    "    adata_filt = filter_genes(adata_filt, 'diet', 'CD', 'HFD')\n",
    "    \n",
    "    # run limma\n",
    "    print('run limma')\n",
    "    \n",
    "    try:\n",
    "        x = run_limma_counts(adata_filt, 'diet', 'batch', 'n_genes', '\"condHFD\"', '\"CD\"')\n",
    "    \n",
    "    except rpy2.rinterface.RRuntimeError:\n",
    "        print ('no significant genes..')\n",
    "        continue\n",
    "    \n",
    "    print('calculate absolute lfc')\n",
    "    \n",
    "    # compute absolute log2 fold change\n",
    "    lfc = abs_log2fc(adata_filt, 'diet', 'HFD', 'CD')\n",
    "    x = x.loc[lfc.index]\n",
    "    x['abs.log2FC'] = lfc.values\n",
    "    del lfc\n",
    "    \n",
    "    # scale lfc to weigh genes for pathway enrichment\n",
    "    xup, xdown = scale_lfc(x)\n",
    "    \n",
    "    # filtering DEG    \n",
    "    xup=xup[xup['adj.P.Val']<0.01]\n",
    "    xdown=xdown[xdown['adj.P.Val']<0.01]\n",
    "\n",
    "    xup=xup[xup['logFC']>0.1]\n",
    "    xdown=xdown[xdown['logFC']<-0.1]\n",
    "    \n",
    "    # upregulated genes\n",
    "    # write genes to excel\n",
    "    write_to_excel(pd.DataFrame(xup), writer_genes, i, '_up')\n",
    "        \n",
    "#     # pathway enrichment\n",
    "#     run_enrichment(xup, writer, i, '_up', database='KEGG_2016')\n",
    "    \n",
    "    \n",
    "    # downregulated genes\n",
    "    # write genes to excel\n",
    "    write_to_excel(pd.DataFrame(xdown), writer_genes, i, '_down')\n",
    "        \n",
    "#     # pathway enrichment\n",
    "#     run_enrichment(xdown, writer, i, '_down', database='KEGG_2016')\n",
    "    \n",
    "writer_genes.save()"
   ]
  },
  {
   "cell_type": "markdown",
   "metadata": {},
   "source": [
    "### HFD vs. CD in major cell types split by region"
   ]
  },
  {
   "cell_type": "code",
   "execution_count": null,
   "metadata": {},
   "outputs": [],
   "source": [
    "writer_genes = pd.ExcelWriter('./differential_expression/Supplementary Table 8.xlsx', engine='xlsxwriter')\n",
    "writer_kegg = pd.ExcelWriter('./differential_expression/Supplementary Table 9.xlsx', engine='xlsxwriter')"
   ]
  },
  {
   "cell_type": "code",
   "execution_count": null,
   "metadata": {},
   "outputs": [],
   "source": [
    "for i in adata_all.obs['groups_named_regional_eec'].cat.categories:\n",
    "   \n",
    "    print('differential testing in '+ str(i))\n",
    "    ix_cells = np.isin(adata_all.obs['groups_named_regional_eec'], [i])\n",
    "    adata_filt = adata_all[ix_cells,:].copy()\n",
    "    print('subset  '+ str(np.sum(ix_cells)) + 'cells')\n",
    "    \n",
    "    # filter ambient genes\n",
    "    ix_amb = filter_amb(adata_all) \n",
    "    adata_filt = adata_filt[:,ix_amb].copy()\n",
    "            \n",
    "    # filter genes at least expressed in 10% of cells in either group\n",
    "    print('filter genes')\n",
    "    adata_filt = filter_genes(adata_filt, 'diet', 'CD', 'HFD')\n",
    "    \n",
    "    # run limma\n",
    "    print('run limma')\n",
    "    \n",
    "    try:\n",
    "        x = run_limma_counts(adata_filt, 'diet', 'batch', 'n_genes', '\"condHFD\"', '\"CD\"')\n",
    "    \n",
    "    except rpy2.rinterface.RRuntimeError:\n",
    "        print ('no significant genes..')\n",
    "        continue\n",
    "    \n",
    "    print('calculate absolute lfc')\n",
    "    \n",
    "    # compute absolute log2 fold change\n",
    "    lfc = abs_log2fc(adata_filt, 'diet', 'HFD', 'CD')\n",
    "    x = x.loc[lfc.index]\n",
    "    x['abs.log2FC'] = lfc.values\n",
    "    del lfc\n",
    "    \n",
    "    # scale lfc to weigh genes for pathway enrichment\n",
    "    xup, xdown = scale_lfc(x)\n",
    "    \n",
    "    # filtering DEG    \n",
    "    xup=xup[xup['adj.P.Val']<0.01]\n",
    "    xdown=xdown[xdown['adj.P.Val']<0.01]\n",
    "\n",
    "    xup=xup[xup['logFC']>0.1]\n",
    "    xdown=xdown[xdown['logFC']<-0.1]\n",
    "    \n",
    "    # upregulated genes\n",
    "    # write genes to excel\n",
    "    write_to_excel(pd.DataFrame(xup), writer_genes, i, '_up')\n",
    "        \n",
    "    # pathway enrichment\n",
    "    run_enrichment(xup, writer_kegg, i, '_up', database='KEGG_2016')\n",
    "    \n",
    "    # downregulated genes\n",
    "    # write genes to excel\n",
    "    write_to_excel(pd.DataFrame(xdown), writer_genes, i, '_down')\n",
    "        \n",
    "    # pathway enrichment\n",
    "    run_enrichment(xdown, writer_kegg, i, '_down', database='KEGG_2016')\n",
    "    \n",
    "writer_kegg.save()\n",
    "writer_genes.save()"
   ]
  },
  {
   "cell_type": "markdown",
   "metadata": {},
   "source": [
    "### CD vs. HFD in EEC subpopulations"
   ]
  },
  {
   "cell_type": "code",
   "execution_count": null,
   "metadata": {},
   "outputs": [],
   "source": [
    "writer_genes = pd.ExcelWriter('./differential_expression/Supplementary Table 4.xlsx', engine='xlsxwriter')"
   ]
  },
  {
   "cell_type": "code",
   "execution_count": null,
   "metadata": {},
   "outputs": [],
   "source": [
    "for i in ['Sox4+ early EE progenitor', 'Ngn3+ progenitor', 'Arx+/Isl1+ progenitor', 'Pax4+ progenitor', 'Ghrl+ progenitor', \n",
    "          'SILA', 'SILP', 'SAKD', 'SIK', 'Reg4+ EC', 'EC', 'Lgr5+ EEC']:\n",
    "   \n",
    "    print('differential testing in '+ str(i))\n",
    "    ix_cells = np.isin(adata_all.obs['groups_named_eec_final'], [i])\n",
    "    adata_filt = adata_all[ix_cells,:].copy()\n",
    "    print('subset  '+ str(np.sum(ix_cells)) + 'cells')\n",
    "    \n",
    "    # filter ambient genes\n",
    "    ix_amb = filter_amb(adata_all) \n",
    "    adata_filt = adata_filt[:,ix_amb].copy()\n",
    "            \n",
    "    # filter genes at least expressed in 10% of cells in either group\n",
    "    print('filter genes')\n",
    "    adata_filt = filter_genes(adata_filt, 'diet', 'CD', 'HFD')\n",
    "    \n",
    "    # run limma\n",
    "    print('run limma')\n",
    "    \n",
    "    try:\n",
    "        x = run_limma_counts(adata_filt, 'diet', 'batch', 'n_genes', '\"condHFD\"', '\"CD\"')\n",
    "    \n",
    "    except rpy2.rinterface.RRuntimeError:\n",
    "        print ('no significant genes..')\n",
    "        continue\n",
    "    \n",
    "    print('calculate absolute lfc')\n",
    "    \n",
    "    # compute absolute log2 fold change\n",
    "    lfc = abs_log2fc(adata_filt, 'diet', 'HFD', 'CD')\n",
    "    x = x.loc[lfc.index]\n",
    "    x['abs.log2FC'] = lfc.values\n",
    "    del lfc\n",
    "    \n",
    "    # write genes to excel\n",
    "    write_to_excel(pd.DataFrame(x), writer_genes, i, '')    \n",
    "            \n",
    "writer_genes.save()"
   ]
  }
 ],
 "metadata": {
  "kernelspec": {
   "display_name": "Python 3",
   "language": "python",
   "name": "python3"
  },
  "language_info": {
   "codemirror_mode": {
    "name": "ipython",
    "version": 3
   },
   "file_extension": ".py",
   "mimetype": "text/x-python",
   "name": "python",
   "nbconvert_exporter": "python",
   "pygments_lexer": "ipython3",
   "version": "3.5.4"
  }
 },
 "nbformat": 4,
 "nbformat_minor": 4
}
